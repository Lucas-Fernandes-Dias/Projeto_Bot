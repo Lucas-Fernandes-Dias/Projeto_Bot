{
 "cells": [
  {
   "cell_type": "code",
   "execution_count": 2,
   "id": "5d8f39dc",
   "metadata": {
    "scrolled": true
   },
   "outputs": [],
   "source": [
    "import pandas as pd\n",
    "from selenium import webdriver\n",
    "from selenium.webdriver.common.keys import Keys\n",
    "import time\n",
    "import urllib\n"
   ]
  },
  {
   "cell_type": "code",
   "execution_count": 3,
   "id": "0f39a9b9",
   "metadata": {},
   "outputs": [
    {
     "data": {
      "text/html": [
       "<div>\n",
       "<style scoped>\n",
       "    .dataframe tbody tr th:only-of-type {\n",
       "        vertical-align: middle;\n",
       "    }\n",
       "\n",
       "    .dataframe tbody tr th {\n",
       "        vertical-align: top;\n",
       "    }\n",
       "\n",
       "    .dataframe thead th {\n",
       "        text-align: right;\n",
       "    }\n",
       "</style>\n",
       "<table border=\"1\" class=\"dataframe\">\n",
       "  <thead>\n",
       "    <tr style=\"text-align: right;\">\n",
       "      <th></th>\n",
       "      <th>Pessoa</th>\n",
       "      <th>Número</th>\n",
       "      <th>Mensagem</th>\n",
       "    </tr>\n",
       "  </thead>\n",
       "  <tbody>\n",
       "  </tbody>\n",
       "</table>\n",
       "</div>"
      ],
      "text/plain": [
       "Empty DataFrame\n",
       "Columns: [Pessoa, Número, Mensagem]\n",
       "Index: []"
      ]
     },
     "metadata": {},
     "output_type": "display_data"
    }
   ],
   "source": [
    "contatos_df = pd.read_excel('Enviar.xlsx')\n",
    "display(contatos_df)"
   ]
  },
  {
   "cell_type": "code",
   "execution_count": 9,
   "id": "ab235246",
   "metadata": {},
   "outputs": [
    {
     "name": "stderr",
     "output_type": "stream",
     "text": [
      "C:\\Users\\Lucas\\AppData\\Local\\Temp\\ipykernel_15280\\2805822256.py:5: DeprecationWarning: find_elements_by_id is deprecated. Please use find_elements(by=By.ID, value=id_) instead\n",
      "  while len(navegador.find_elements_by_id('side')) < 1:\n",
      "C:\\Users\\Lucas\\AppData\\Local\\Temp\\ipykernel_15280\\2805822256.py:15: DeprecationWarning: find_elements_by_id is deprecated. Please use find_elements(by=By.ID, value=id_) instead\n",
      "  while len(navegador.find_elements_by_id('side')) < 1:\n",
      "C:\\Users\\Lucas\\AppData\\Local\\Temp\\ipykernel_15280\\2805822256.py:17: DeprecationWarning: find_element_by_xpath is deprecated. Please use find_element(by=By.XPATH, value=xpath) instead\n",
      "  navegador.find_element_by_xpath('//*[@id=\"main\"]/footer/div[1]/div/span[2]/div/div[2]/div[1]/div/div[2]').send_keys(Keys.ENTER)\n"
     ]
    }
   ],
   "source": [
    "\n",
    "\n",
    "\n",
    "\n",
    "navegador = webdriver.Chrome()\n",
    "navegador.get('https://web.whatsapp.com/')\n",
    "\n",
    "\n",
    "while len(navegador.find_elements_by_id('side')) < 1:\n",
    "    time.sleep(1)\n",
    "    \n",
    "    \n",
    "for i, mensagem in enumerate(contatos_df['Mensagem']):\n",
    "    pessoas = contatos_df.loc[i, 'Pessoa']\n",
    "    numero = contatos_df.loc[i, 'Número']\n",
    "    texto = urllib.parse.quote(mensagem)\n",
    "    link = f'https://web.whatsapp.com/send?phone={numero}&text={texto}'\n",
    "    navegador.get(link)\n",
    "    while len(navegador.find_elements_by_id('side')) < 1:\n",
    "        time.sleep(1)\n",
    "    navegador.find_element_by_xpath('//*[@id=\"main\"]/footer/div[1]/div/span[2]/div/div[2]/div[1]/div/div[2]').send_keys(Keys.ENTER)\n",
    "    time.sleep(7)\n",
    "    \n",
    "    \n",
    "    "
   ]
  },
  {
   "cell_type": "code",
   "execution_count": null,
   "id": "ea6abc38",
   "metadata": {},
   "outputs": [],
   "source": []
  }
 ],
 "metadata": {
  "kernelspec": {
   "display_name": "Python 3 (ipykernel)",
   "language": "python",
   "name": "python3"
  },
  "language_info": {
   "codemirror_mode": {
    "name": "ipython",
    "version": 3
   },
   "file_extension": ".py",
   "mimetype": "text/x-python",
   "name": "python",
   "nbconvert_exporter": "python",
   "pygments_lexer": "ipython3",
   "version": "3.9.12"
  }
 },
 "nbformat": 4,
 "nbformat_minor": 5
}
