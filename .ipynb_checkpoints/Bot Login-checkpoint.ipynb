{
 "cells": [
  {
   "cell_type": "code",
   "execution_count": null,
   "id": "1a95445f",
   "metadata": {},
   "outputs": [],
   "source": []
  },
  {
   "cell_type": "code",
   "execution_count": 1,
   "id": "68e18cce",
   "metadata": {},
   "outputs": [],
   "source": [
    "# abrir a ferramenta / o sistema / o programa\n",
    "# preencher o login\n",
    "# preencher a senha\n",
    "# clicar em fazer login"
   ]
  },
  {
   "cell_type": "code",
   "execution_count": 2,
   "id": "83f09015",
   "metadata": {},
   "outputs": [
    {
     "data": {
      "text/plain": [
       "Point(x=601, y=272)"
      ]
     },
     "execution_count": 2,
     "metadata": {},
     "output_type": "execute_result"
    }
   ],
   "source": [
    "import time\n",
    "\n",
    "\n",
    "time.sleep(5)\n",
    "pyautogui.position()"
   ]
  },
  {
   "cell_type": "code",
   "execution_count": null,
   "id": "799eee4e",
   "metadata": {},
   "outputs": [],
   "source": [
    "import pyautogui\n",
    "\n",
    "pyautogui.PAUSE = 2\n",
    "\n",
    "pyautogui.press('win')\n",
    "pyautogui.write('Login.xlsx')\n",
    "pyautogui.press('backspace')\n",
    "pyautogui.press('enter')\n",
    "pyautogui.PAUSE = 5\n",
    "pyautogui.click(x=1213, y=84)\n",
    "pyautogui.PAUSE = 5\n",
    "pyautogui.PAUSE = 2\n",
    "pyautogui.click(x=444, y=303)\n",
    "pyautogui.PAUSE = 2\n",
    "pyautogui.write('Lucas')\n",
    "pyautogui.click(x=601, y=272)\n",
    "pyautogui.click(x=1905, y=171)"
   ]
  }
 ],
 "metadata": {
  "kernelspec": {
   "display_name": "Python 3 (ipykernel)",
   "language": "python",
   "name": "python3"
  },
  "language_info": {
   "codemirror_mode": {
    "name": "ipython",
    "version": 3
   },
   "file_extension": ".py",
   "mimetype": "text/x-python",
   "name": "python",
   "nbconvert_exporter": "python",
   "pygments_lexer": "ipython3",
   "version": "3.9.12"
  }
 },
 "nbformat": 4,
 "nbformat_minor": 5
}
