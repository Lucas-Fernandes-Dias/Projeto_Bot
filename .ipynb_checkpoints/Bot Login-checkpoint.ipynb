{
 "cells": [
  {
   "cell_type": "code",
   "execution_count": null,
   "id": "3fbbda16",
   "metadata": {},
   "outputs": [],
   "source": []
  },
  {
   "cell_type": "code",
   "execution_count": 1,
   "id": "68e18cce",
   "metadata": {},
   "outputs": [],
   "source": [
    "# abrir a ferramenta / o sistema / o programa\n",
    "# preencher o login\n",
    "# preencher a senha\n",
    "# clicar em fazer login"
   ]
  },
  {
   "cell_type": "code",
   "execution_count": 3,
   "id": "83f09015",
   "metadata": {},
   "outputs": [
    {
     "data": {
      "text/plain": [
       "Point(x=456, y=312)"
      ]
     },
     "execution_count": 3,
     "metadata": {},
     "output_type": "execute_result"
    }
   ],
   "source": [
    "import time\n",
    "\n",
    "\n",
    "time.sleep(5)\n",
    "pyautogui.position()"
   ]
  },
  {
   "cell_type": "code",
   "execution_count": 1,
   "id": "cdb95562",
   "metadata": {},
   "outputs": [],
   "source": [
    "import pyautogui\n",
    "\n",
    "pyautogui.PAUSE = 2\n",
    "\n",
    "pyautogui.press('win')\n",
    "pyautogui.write('Login.xlsx')\n",
    "pyautogui.press('backspace')\n",
    "pyautogui.press('enter')\n",
    "pyautogui.PAUSE = 3\n",
    "pyautogui.click(x=456, y=312)\n",
    "pyautogui.write('Lucas')\n",
    "pyautogui.click(x=460, y=366)\n",
    "pyautogui.write('123456')\n",
    "pyautogui.click(x=353, y=478)"
   ]
  },
  {
   "cell_type": "code",
   "execution_count": null,
   "id": "f87e161a",
   "metadata": {},
   "outputs": [],
   "source": []
  },
  {
   "cell_type": "code",
   "execution_count": null,
   "id": "4bd85ad7",
   "metadata": {},
   "outputs": [],
   "source": []
  }
 ],
 "metadata": {
  "kernelspec": {
   "display_name": "Python 3 (ipykernel)",
   "language": "python",
   "name": "python3"
  },
  "language_info": {
   "codemirror_mode": {
    "name": "ipython",
    "version": 3
   },
   "file_extension": ".py",
   "mimetype": "text/x-python",
   "name": "python",
   "nbconvert_exporter": "python",
   "pygments_lexer": "ipython3",
   "version": "3.9.12"
  }
 },
 "nbformat": 4,
 "nbformat_minor": 5
}
